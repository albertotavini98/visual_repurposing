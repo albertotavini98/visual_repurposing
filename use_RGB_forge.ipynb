{
 "cells": [
  {
   "cell_type": "code",
   "execution_count": null,
   "metadata": {},
   "outputs": [],
   "source": [
    "from PIL import Image\n",
    "import matplotlib.pyplot as plt\n",
    "import numpy as np\n",
    "import os \n",
    "import time \n",
    "from itertools import product\n",
    "import random\n",
    "from util import blender, pianoforte, channel_messing"
   ]
  },
  {
   "cell_type": "code",
   "execution_count": null,
   "metadata": {},
   "outputs": [],
   "source": [
    "base_path = 'sources\\\\albe\\IMG_20210920_102236_936.JPG'\n",
    "base_image = Image.open(base_path)\n",
    "needs_rotation = False\n",
    "if needs_rotation :\n",
    "    base_image = base_image.rotate(-90, expand=True)\n",
    "base_array = np.array(base_image)"
   ]
  },
  {
   "cell_type": "code",
   "execution_count": null,
   "metadata": {},
   "outputs": [],
   "source": [
    "base_path = 'sources\\\\albe\\IMG_20210920_102240_030.JPG'\n",
    "base_image2 = Image.open(base_path)\n",
    "base_path = 'sources\\\\albe\\IMG_20210920_102235_134.JPG'\n",
    "base_image3 = Image.open(base_path)"
   ]
  },
  {
   "cell_type": "code",
   "execution_count": null,
   "metadata": {},
   "outputs": [],
   "source": [
    "plt.figure(figsize=(12,12))\n",
    "plt.imshow(base_image)"
   ]
  },
  {
   "cell_type": "code",
   "execution_count": null,
   "metadata": {},
   "outputs": [],
   "source": [
    "#better if arg 1 and 3 are the same!!\n",
    "channel_messing.RGB_substitution(base_image2, base_image, base_image2)"
   ]
  }
 ],
 "metadata": {
  "kernelspec": {
   "display_name": "base",
   "language": "python",
   "name": "python3"
  },
  "language_info": {
   "codemirror_mode": {
    "name": "ipython",
    "version": 3
   },
   "file_extension": ".py",
   "mimetype": "text/x-python",
   "name": "python",
   "nbconvert_exporter": "python",
   "pygments_lexer": "ipython3",
   "version": "3.8.8 (default, Apr 13 2021, 15:08:03) [MSC v.1916 64 bit (AMD64)]"
  },
  "orig_nbformat": 4,
  "vscode": {
   "interpreter": {
    "hash": "49cb93f377a7abe7414b7b0f21fb3017538004a126cf690fb524202736b7fb92"
   }
  }
 },
 "nbformat": 4,
 "nbformat_minor": 2
}
