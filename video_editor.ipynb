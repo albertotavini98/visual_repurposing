{
 "cells": [
  {
   "cell_type": "code",
   "execution_count": 1,
   "metadata": {},
   "outputs": [],
   "source": [
    "import os\n",
    "import numpy as np\n",
    "import librosa\n",
    "import librosa.display\n",
    "import moviepy.editor as mp\n",
    "from moviepy.video.io.ImageSequenceClip import ImageSequenceClip\n",
    "import re\n",
    "\n",
    "\n",
    "def mmss_to_seconds(time_str):\n",
    "    \"\"\"Convert mm:ss format to seconds.\"\"\"\n",
    "    match = re.match(r\"(\\d+):(\\d+)\", time_str)\n",
    "    if match:\n",
    "        minutes, seconds = map(int, match.groups())\n",
    "        return minutes * 60 + seconds\n",
    "    else:\n",
    "        raise ValueError(\"Time format must be mm:ss\")\n",
    "\n",
    "\n",
    "def detect_audio_peaks(audio_path, start_time, end_time, sr=22050, hop_length=512):\n",
    "    \"\"\"\n",
    "    Detects peaks in the given audio file and returns timestamps for image transitions.\n",
    "\n",
    "    Parameters:\n",
    "    - audio_path: Path to the .mp3 file\n",
    "    - start_time: Start time in seconds\n",
    "    - end_time: End time in seconds\n",
    "    - sr: Sample rate for librosa (default 22050)\n",
    "    - hop_length: Number of samples per frame\n",
    "\n",
    "    Returns:\n",
    "    - List of timestamps where images should change\n",
    "    \"\"\"\n",
    "    # Load audio file\n",
    "    y, sr = librosa.load(audio_path, sr=sr, offset=start_time, duration=end_time - start_time)\n",
    "\n",
    "    # Compute the onset envelope\n",
    "    onset_env = librosa.onset.onset_strength(y=y, sr=sr, hop_length=hop_length)\n",
    "\n",
    "    # Detect peaks\n",
    "    peak_indices = librosa.onset.onset_detect(onset_envelope=onset_env, sr=sr, hop_length=hop_length)\n",
    "\n",
    "    # Convert peak indices to time (in seconds)\n",
    "    peak_times = librosa.frames_to_time(peak_indices, sr=sr, hop_length=hop_length)\n",
    "\n",
    "    return peak_times\n",
    "\n",
    "\n",
    "def create_video(image_folder, audio_path, output_video, start_time_str, end_time_str, fps=30):\n",
    "    \"\"\"\n",
    "    Creates a video with images changing at audio peaks.\n",
    "\n",
    "    Parameters:\n",
    "    - image_folder: Folder containing images\n",
    "    - audio_path: Path to the audio file\n",
    "    - output_video: Path for the generated video\n",
    "    - start_time_str: Start time in \"mm:ss\" format\n",
    "    - end_time_str: End time in \"mm:ss\" format\n",
    "    - fps: Frames per second of the video\n",
    "    \"\"\"\n",
    "    # Convert time strings to seconds\n",
    "    start_time = mmss_to_seconds(start_time_str)\n",
    "    end_time = mmss_to_seconds(end_time_str)\n",
    "\n",
    "    # Detect peaks in the audio file\n",
    "    peak_times = detect_audio_peaks(audio_path, start_time, end_time)\n",
    "\n",
    "    # Load images\n",
    "    images = sorted(\n",
    "        [os.path.join(image_folder, img) for img in os.listdir(image_folder) if img.endswith(('.png', '.jpg', '.jpeg'))]\n",
    "    )\n",
    "\n",
    "    if not images:\n",
    "        raise ValueError(\"No images found in the specified folder.\")\n",
    "\n",
    "    if len(images) < len(peak_times):\n",
    "        print(f\"Warning: More peaks ({len(peak_times)}) detected than images ({len(images)}). Some images may repeat.\")\n",
    "\n",
    "    # Select images based on peaks\n",
    "    selected_images = []\n",
    "    for i in range(len(peak_times)):\n",
    "        selected_images.append(images[i % len(images)])  # Loop images if peaks > images\n",
    "\n",
    "    # Create video clip with images changing at peak times\n",
    "    clip = ImageSequenceClip(selected_images, durations=np.diff(np.append(peak_times, end_time - start_time)))\n",
    "\n",
    "    # Load audio\n",
    "    audio = mp.AudioFileClip(audio_path).subclip(start_time, end_time)\n",
    "\n",
    "    # Set the audio to the video\n",
    "    clip = clip.set_audio(audio)\n",
    "\n",
    "    # Write the final video file\n",
    "    clip.write_videofile(output_video, fps=fps, codec=\"libx264\")\n",
    "\n",
    "\n"
   ]
  },
  {
   "cell_type": "code",
   "execution_count": 3,
   "metadata": {},
   "outputs": [
    {
     "name": "stdout",
     "output_type": "stream",
     "text": [
      "Warning: More peaks (112) detected than images (10). Some images may repeat.\n",
      "Moviepy - Building video results/video/output.mp4.\n",
      "MoviePy - Writing audio in outputTEMP_MPY_wvf_snd.mp3\n"
     ]
    },
    {
     "name": "stderr",
     "output_type": "stream",
     "text": [
      "                                                                   \r"
     ]
    },
    {
     "name": "stdout",
     "output_type": "stream",
     "text": [
      "MoviePy - Done.\n",
      "Moviepy - Writing video results/video/output.mp4\n",
      "\n"
     ]
    },
    {
     "name": "stderr",
     "output_type": "stream",
     "text": [
      "                                                               \r"
     ]
    },
    {
     "name": "stdout",
     "output_type": "stream",
     "text": [
      "Moviepy - Done !\n",
      "Moviepy - video ready results/video/output.mp4\n"
     ]
    }
   ],
   "source": [
    "\n",
    "create_video(\n",
    "        image_folder=\"results/video\",  # Folder with images\n",
    "        audio_path=\"sources/audio/Hania_Rani_F_Major.mp3\",  # Path to audio file\n",
    "        output_video=\"results/video/output.mp4\",  # Output video filename\n",
    "        start_time_str=\"2:54\",  # Start time in mm:ss\n",
    "        end_time_str=\"3:16\",  # End time in mm:ss\n",
    "        fps=30  # Frame rate\n",
    "    )"
   ]
  }
 ],
 "metadata": {
  "kernelspec": {
   "display_name": "base",
   "language": "python",
   "name": "python3"
  },
  "language_info": {
   "codemirror_mode": {
    "name": "ipython",
    "version": 3
   },
   "file_extension": ".py",
   "mimetype": "text/x-python",
   "name": "python",
   "nbconvert_exporter": "python",
   "pygments_lexer": "ipython3",
   "version": "3.8.8"
  }
 },
 "nbformat": 4,
 "nbformat_minor": 2
}
