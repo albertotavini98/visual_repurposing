{
 "cells": [
  {
   "cell_type": "code",
   "execution_count": null,
   "metadata": {},
   "outputs": [],
   "source": [
    "#this code iterates on the same image to create a variation of itself\n",
    "from PIL import Image\n",
    "import matplotlib.pyplot as plt\n",
    "import numpy as np\n",
    "import os \n",
    "import time\n",
    "from util import mixer, blender"
   ]
  },
  {
   "cell_type": "code",
   "execution_count": null,
   "metadata": {},
   "outputs": [],
   "source": [
    "filename = 'sources\\DSC08974.JPG'\n",
    "base_image = Image.open(filename)\n",
    "needs_rotation = False\n",
    "if needs_rotation :\n",
    "    base_image = base_image.rotate(90, expand=True)\n",
    "base_array = np.array(base_image)\n",
    "\n",
    "preserve_box = [10000, 10000, 10000, 10000]\n",
    "preserve_box = [3150, 4700, 1500, 2600]"
   ]
  },
  {
   "cell_type": "code",
   "execution_count": null,
   "metadata": {},
   "outputs": [],
   "source": [
    "plt.figure(figsize=(12,12))\n",
    "plt.imshow(base_image)"
   ]
  },
  {
   "cell_type": "code",
   "execution_count": null,
   "metadata": {},
   "outputs": [],
   "source": [
    "n = 40\n",
    "box_dim = 256\n",
    "collection = mixer.collect_samples(base_image, box_dim, n)"
   ]
  },
  {
   "cell_type": "code",
   "execution_count": null,
   "metadata": {},
   "outputs": [],
   "source": [
    "blender.plot_samples(collection)"
   ]
  },
  {
   "cell_type": "code",
   "execution_count": null,
   "metadata": {},
   "outputs": [],
   "source": [
    "#this function gets the number of tics since 01/01/1970\n",
    "#so it will save results naming them with increasing numbers as dates and hours pass\n",
    "\n",
    "for i in range(4):\n",
    "    new_image = mixer.repurpose(base_array, collection, box_dim, preserve_box,  False)\n",
    "    plt.figure(figsize=(12,12))\n",
    "    plt.imshow(new_image)\n",
    "    mixer.save_result(new_image, 'same_image')\n",
    "    "
   ]
  }
 ],
 "metadata": {
  "kernelspec": {
   "display_name": "base",
   "language": "python",
   "name": "python3"
  },
  "language_info": {
   "codemirror_mode": {
    "name": "ipython",
    "version": 3
   },
   "file_extension": ".py",
   "mimetype": "text/x-python",
   "name": "python",
   "nbconvert_exporter": "python",
   "pygments_lexer": "ipython3",
   "version": "3.8.8"
  },
  "orig_nbformat": 4,
  "vscode": {
   "interpreter": {
    "hash": "49cb93f377a7abe7414b7b0f21fb3017538004a126cf690fb524202736b7fb92"
   }
  }
 },
 "nbformat": 4,
 "nbformat_minor": 2
}
