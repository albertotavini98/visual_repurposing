{
 "cells": [
  {
   "cell_type": "code",
   "execution_count": null,
   "metadata": {},
   "outputs": [],
   "source": [
    "#this code iterates on the same image to create a variation of itself\n",
    "from PIL import Image\n",
    "import matplotlib.pyplot as plt\n",
    "import numpy as np\n",
    "import os \n",
    "import time \n",
    "from itertools import product\n",
    "import random\n",
    "from util import blender, pianoforte"
   ]
  },
  {
   "cell_type": "code",
   "execution_count": null,
   "metadata": {},
   "outputs": [],
   "source": [
    "path = 'sources\\\\tateModern'\n",
    "sample = True\n",
    "if sample:\n",
    "    n = 5\n",
    "    pixel_dim = 256\n",
    "    collection = blender.collect_samples(path, n, pixel_dim)\n",
    "else:\n",
    "    n = 1\n",
    "    collection = blender.load_samples(path)"
   ]
  },
  {
   "cell_type": "code",
   "execution_count": null,
   "metadata": {},
   "outputs": [],
   "source": [
    "#we initialize clusters as the set of fragments for that image (use n == 1 if loading entire images)\n",
    "cluster_starts = pianoforte.cluster_indexes_initializer(len(collection) , n)\n",
    "print(cluster_starts)"
   ]
  },
  {
   "cell_type": "code",
   "execution_count": null,
   "metadata": {},
   "outputs": [],
   "source": [
    "sort = True\n",
    "if sort:\n",
    "    num_clusters = 8\n",
    "    sorted_collection, cluster_starts = blender.Kmeans_sort_by_RGB_averages(collection, num_clusters)\n",
    "else:\n",
    "    sorted_collection = collection\n",
    "    random.shuffle(sorted_collection)"
   ]
  },
  {
   "cell_type": "code",
   "execution_count": null,
   "metadata": {},
   "outputs": [],
   "source": [
    "blender.plot_samples(sorted_collection)"
   ]
  },
  {
   "cell_type": "code",
   "execution_count": null,
   "metadata": {},
   "outputs": [],
   "source": [
    "#the first args is number of generations, the second is where the cluster range parameters,\n",
    "# third is probability of usage of each cluster and fourt probability of the single piece of each cluster\n",
    "score = pianoforte.compose_visual_melody(3, cluster_starts, 0.8, 0.7)\n",
    "pianoforte.play_and_repurpose(sorted_collection, score, 'tateModernPiano')"
   ]
  },
  {
   "cell_type": "code",
   "execution_count": null,
   "metadata": {},
   "outputs": [],
   "source": [
    "sub_collections, sub_cluster_indexes = pianoforte.divide_in_subcollections(collection, 5, 1)\n",
    "\n",
    "for i in range(5):\n",
    "    score = pianoforte.compose_visual_melody(3, sub_cluster_indexes[i], 0.95, 0.9999)\n",
    "    pianoforte.play_and_repurpose(sub_collections[i], score, 'trial')"
   ]
  }
 ],
 "metadata": {
  "kernelspec": {
   "display_name": "base",
   "language": "python",
   "name": "python3"
  },
  "language_info": {
   "codemirror_mode": {
    "name": "ipython",
    "version": 3
   },
   "file_extension": ".py",
   "mimetype": "text/x-python",
   "name": "python",
   "nbconvert_exporter": "python",
   "pygments_lexer": "ipython3",
   "version": "3.8.8"
  },
  "orig_nbformat": 4,
  "vscode": {
   "interpreter": {
    "hash": "49cb93f377a7abe7414b7b0f21fb3017538004a126cf690fb524202736b7fb92"
   }
  }
 },
 "nbformat": 4,
 "nbformat_minor": 2
}
