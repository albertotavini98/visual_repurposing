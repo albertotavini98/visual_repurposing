{
 "cells": [
  {
   "cell_type": "code",
   "execution_count": null,
   "metadata": {},
   "outputs": [],
   "source": [
    "#this code iterates on the same image to create a variation of itself\n",
    "from PIL import Image\n",
    "import matplotlib.pyplot as plt\n",
    "import numpy as np\n",
    "import os \n",
    "import time \n",
    "from itertools import product\n",
    "import random\n",
    "from util import blender, pianoforte"
   ]
  },
  {
   "cell_type": "code",
   "execution_count": null,
   "metadata": {},
   "outputs": [],
   "source": [
    "base_path = 'sources\\\\tateModern\\DSC07909.JPG'\n",
    "base_image = Image.open(base_path)\n",
    "needs_rotation = False\n",
    "if needs_rotation :\n",
    "    base_image = base_image.rotate(90, expand=True)\n",
    "base_array = np.array(base_image)\n",
    "\n",
    "#this are the coordinates of the box to preserve\n",
    "#preserve = [800, 2000, 1200, 2200] #for MAIN\n",
    "#preserve = [500, 2000, 0, 1500] #for Lovers\n",
    "preserve = [10000, 10000, 10000, 1000] #to make its effect irrelevant\n",
    "preserve = [ 2000, 3000, 2000, 3500] #for the black and white old man\n",
    "preserve = [500, 3500, 2300, 3300, ] #for the kid with the mini trumpet \n",
    "preserve = [ 1400, 3000 ,2100, 3300]#for the kid bent down in full\n",
    "preserve = [ 1500, 3000 ,350, 1550]#for the kid bent down resized\n",
    "preserve = [500, 3500, 500, 1500 ] #for the kid with the mini trumpet resized\n",
    "\n",
    "preserve =  [480, 620, 350,500, 200, 400, 100, 270] #for the piece about the holocaust \n",
    "preserve = [500, 3500, 2300, 3300, ] #for the kid with the mini trumpet\n",
    "\n",
    "preserve = [10000, 10000, 10000, 1000] #to make its effect irrelevant\n",
    "preserve = [3500, 6000, 0, 1750] #this for the tate modern bar man\n",
    "preserve = [2000, 4000, 1200, 2500] #for the black screen from mulas'\n",
    "preserve = [1000, 3000, 1000, 2000 ] #for the seated guy from tate modern\n",
    "preserve = [[0, 1200, 1100, 2700 ],[3000, 3600, 1400, 2200]] #for the girl from tate modern"
   ]
  },
  {
   "cell_type": "code",
   "execution_count": null,
   "metadata": {},
   "outputs": [],
   "source": [
    "plt.figure(figsize=(12,12))\n",
    "plt.imshow(base_image)"
   ]
  },
  {
   "cell_type": "code",
   "execution_count": null,
   "metadata": {},
   "outputs": [],
   "source": [
    "path = 'sources\\\\tateModern'\n",
    "n = 3\n",
    "pixel_dim = 256\n",
    "sample = True\n",
    "if sample:\n",
    "    collection = blender.collect_samples(path, n, pixel_dim)\n",
    "else:\n",
    "    collection = blender.load_samples(path)\n",
    "\n",
    "    "
   ]
  },
  {
   "cell_type": "code",
   "execution_count": null,
   "metadata": {},
   "outputs": [],
   "source": [
    "#we initialize clusters as the set of fragments for that image (use n ==1 if loading entire images)\n",
    "cluster_starts = pianoforte.cluster_indexes_initializer(len(collection) , n)\n",
    "print(cluster_starts)"
   ]
  },
  {
   "cell_type": "code",
   "execution_count": null,
   "metadata": {},
   "outputs": [],
   "source": [
    "\n",
    "\n",
    "plt.imshow(collection[23])"
   ]
  },
  {
   "cell_type": "code",
   "execution_count": null,
   "metadata": {},
   "outputs": [],
   "source": [
    "sorted_collection = collection\n",
    "num_clusters = 5\n",
    "sorted_collection, cluster_starts = blender.Kmeans_sort_by_RGB_averages(collection, num_clusters)\n",
    "\n"
   ]
  },
  {
   "cell_type": "code",
   "execution_count": null,
   "metadata": {},
   "outputs": [],
   "source": [
    "\n",
    "blender.plot_samples(sorted_collection)"
   ]
  },
  {
   "cell_type": "code",
   "execution_count": null,
   "metadata": {},
   "outputs": [],
   "source": [
    "collection = sorted_collection"
   ]
  },
  {
   "cell_type": "code",
   "execution_count": null,
   "metadata": {},
   "outputs": [],
   "source": [
    "unused_collection = collection\n"
   ]
  },
  {
   "cell_type": "code",
   "execution_count": null,
   "metadata": {},
   "outputs": [],
   "source": [
    "collection = unused_collection\n",
    "print('remeaning are ', len(collection))"
   ]
  },
  {
   "cell_type": "code",
   "execution_count": null,
   "metadata": {},
   "outputs": [],
   "source": [
    "base_image = Image.open(base_path)\n",
    "if needs_rotation :\n",
    "    base_image = base_image.rotate(90, expand=True)\n",
    "base_array = np.array(base_image)"
   ]
  },
  {
   "cell_type": "code",
   "execution_count": null,
   "metadata": {},
   "outputs": [],
   "source": [
    "print(base_array.shape)"
   ]
  },
  {
   "cell_type": "code",
   "execution_count": null,
   "metadata": {},
   "outputs": [],
   "source": [
    "for i in range(3):\n",
    "    new_image, collection = blender.repurpose_fragments(collection, base_array, 36, preserve, pixel_dim, reutilize=False)\n",
    "    #new_image, collection = blender.repurpose_images(collection, base_array, 100, preserve)\n",
    "    \n",
    "    plt.figure(figsize=(10,10))\n",
    "    plt.imshow(new_image)\n",
    "\n",
    "    #needed to not save the images with same name, ending up with rewriting of them\n",
    "    time.sleep(0.85)\n",
    "\n",
    "    #to reinstate collection if we finish images\n",
    "    if(len(collection) == 0):\n",
    "        print('one iteration on the collection has terminated')\n",
    "        collection = unused_collection\n",
    "\n",
    "    blender.save_result(new_image, 'tateModern')\n",
    "\n",
    "\n",
    "print('remeaning are ', len(collection))"
   ]
  }
 ],
 "metadata": {
  "kernelspec": {
   "display_name": "base",
   "language": "python",
   "name": "python3"
  },
  "language_info": {
   "codemirror_mode": {
    "name": "ipython",
    "version": 3
   },
   "file_extension": ".py",
   "mimetype": "text/x-python",
   "name": "python",
   "nbconvert_exporter": "python",
   "pygments_lexer": "ipython3",
   "version": "3.8.8"
  },
  "orig_nbformat": 4,
  "vscode": {
   "interpreter": {
    "hash": "49cb93f377a7abe7414b7b0f21fb3017538004a126cf690fb524202736b7fb92"
   }
  }
 },
 "nbformat": 4,
 "nbformat_minor": 2
}
