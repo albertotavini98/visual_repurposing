{
 "cells": [
  {
   "cell_type": "code",
   "execution_count": 18,
   "metadata": {},
   "outputs": [],
   "source": [
    "from datetime import datetime\n",
    "import os\n",
    "import numpy as np\n",
    "import librosa\n",
    "import librosa.display\n",
    "import matplotlib.pyplot as plt\n",
    "import subprocess\n",
    "import moviepy.editor as mp\n",
    "from moviepy.video.io.ImageSequenceClip import ImageSequenceClip\n",
    "import re\n",
    "import random\n",
    "from matplotlib.lines import Line2D\n",
    "import plotly.graph_objs as go\n",
    "import numpy as np\n"
   ]
  },
  {
   "cell_type": "code",
   "execution_count": 17,
   "metadata": {},
   "outputs": [
    {
     "name": "stdout",
     "output_type": "stream",
     "text": [
      "Requirement already satisfied: plotly in d:\\anaconda3\\lib\\site-packages (6.0.1)\n",
      "Requirement already satisfied: narwhals>=1.15.1 in d:\\anaconda3\\lib\\site-packages (from plotly) (1.32.0)\n",
      "Requirement already satisfied: packaging in d:\\anaconda3\\lib\\site-packages (from plotly) (23.2)\n"
     ]
    }
   ],
   "source": [
    "!pip install plotly"
   ]
  },
  {
   "cell_type": "code",
   "execution_count": 19,
   "metadata": {},
   "outputs": [],
   "source": [
    "def mmss_to_seconds(time_str):\n",
    "    \"\"\"Convert mm:ss format to seconds.\"\"\"\n",
    "    match = re.match(r\"(\\d+):(\\d+)\", time_str)\n",
    "    if match:\n",
    "        minutes, seconds = map(int, match.groups())\n",
    "        return minutes * 60 + seconds\n",
    "    else:\n",
    "        raise ValueError(\"Time format must be mm:ss\")\n",
    "\n",
    "\n",
    "def detect_audio_peaks(audio_path, start_time, end_time, sr=22050, hop_length=512):\n",
    "    \n",
    "    # Load audio file\n",
    "    y, sr = librosa.load(audio_path, sr=sr, offset=start_time, duration=end_time - start_time)\n",
    "\n",
    "    # Compute the onset envelope\n",
    "    onset_env = librosa.onset.onset_strength(y=y, sr=sr, hop_length=hop_length)\n",
    "\n",
    "    # Detect peaks\n",
    "    peak_indices = librosa.onset.onset_detect(onset_envelope=onset_env, sr=sr, hop_length=hop_length)\n",
    "\n",
    "    # Convert peak indices to time (in seconds)\n",
    "    peak_times = librosa.frames_to_time(peak_indices, sr=sr, hop_length=hop_length)\n",
    "\n",
    "    return peak_times\n",
    "\n",
    "\n",
    "def detect_audio_peaks_with_fourier_transform(audio_path, start_time, end_time, sr=22050, hop_length=512, backtrack=True, plot=False):\n",
    "\n",
    "    # Load audio\n",
    "    y, sr = librosa.load(audio_path, sr=sr, offset=start_time, duration=end_time - start_time)\n",
    "\n",
    "    # Compute STFT\n",
    "    S = np.abs(librosa.stft(y, hop_length=hop_length))\n",
    "    \n",
    "    # Spectral flux\n",
    "    flux = np.sqrt(np.sum(np.diff(S, axis=1)**2, axis=0))\n",
    "    flux = np.pad(flux, (1, 0))  # match length\n",
    "\n",
    "    # Normalize flux\n",
    "    flux = (flux - np.min(flux)) / (np.max(flux) - np.min(flux) + 1e-6)\n",
    "\n",
    "    # Onset envelope\n",
    "    onset_env = librosa.onset.onset_strength(y=y, sr=sr, hop_length=hop_length)\n",
    "    onset_env = (onset_env - np.min(onset_env)) / (np.max(onset_env) - np.min(onset_env) + 1e-6)\n",
    "\n",
    "    # Combined novelty function\n",
    "    combined_env = 0.5 * flux + 0.5 * onset_env\n",
    "\n",
    "    # Detect peaks\n",
    "    peak_indices = librosa.onset.onset_detect(onset_envelope=combined_env, sr=sr, hop_length=hop_length, backtrack=backtrack)\n",
    "    peak_times = librosa.frames_to_time(peak_indices, sr=sr, hop_length=hop_length)\n",
    "\n",
    "    # Plotting\n",
    "    \n",
    "\n",
    "    if plot:\n",
    "        times = librosa.frames_to_time(np.arange(len(combined_env)), sr=sr, hop_length=hop_length)\n",
    "\n",
    "        fig = go.Figure()\n",
    "        fig.add_trace(go.Scatter(x=times, y=onset_env, mode='lines', name='Onset Envelope', opacity=0.7))\n",
    "        fig.add_trace(go.Scatter(x=times, y=flux, mode='lines', name='Spectral Flux', opacity=0.7))\n",
    "        fig.add_trace(go.Scatter(x=times, y=combined_env, mode='lines', name='Combined Signal', line=dict(width=2)))\n",
    "\n",
    "        # Add vertical lines for peaks\n",
    "        for pt in peak_times:\n",
    "            fig.add_vline(x=pt, line=dict(color='red', dash='dash'), opacity=0.6)\n",
    "\n",
    "        fig.update_layout(\n",
    "            title='Peak Detection Debug Plot',\n",
    "            xaxis_title='Time (s)',\n",
    "            yaxis_title='Normalized Energy',\n",
    "            legend=dict(x=0.01, y=0.99),\n",
    "            height=600\n",
    "        )\n",
    "\n",
    "        fig.show()\n",
    "\n",
    "    return peak_times\n",
    "\n",
    "\n",
    "\n",
    "#this function associates the images to the peaks in the audio file\n",
    "def follow_the_peaks(image_folder, audio_path, output_video, start_time_str, end_time_str, fps=30):\n",
    "    \n",
    "    \n",
    "    start_time = mmss_to_seconds(start_time_str)\n",
    "    end_time = mmss_to_seconds(end_time_str)\n",
    "\n",
    "    # Detect peaks in the audio file\n",
    "    peak_times = detect_audio_peaks_with_fourier_transform(audio_path, start_time, end_time)\n",
    "\n",
    "    \n",
    "    images = [os.path.join(image_folder, img) for img in os.listdir(image_folder) if img.endswith(('.png', '.jpg', '.jpeg', '.JPG'))]\n",
    "    random.shuffle(images) \n",
    "\n",
    "    if not images:\n",
    "        raise ValueError(\"No images found in the specified folder.\")\n",
    "\n",
    "    if len(images) < len(peak_times):\n",
    "        print(f\"Warning: More peaks ({len(peak_times)}) detected than images ({len(images)}). Some images may repeat.\")\n",
    "\n",
    "\n",
    "    selected_images = []\n",
    "    for i in range(len(peak_times)):\n",
    "        selected_images.append(images[i % len(images)])  # Loop images if peaks > images\n",
    "\n",
    "    \n",
    "    clip = ImageSequenceClip(selected_images, durations=np.diff(np.append(peak_times, end_time - start_time)))\n",
    "    audio = mp.AudioFileClip(audio_path).subclip(start_time, end_time)\n",
    "\n",
    "    #attach audio to video\n",
    "    clip = clip.set_audio(audio)\n",
    "\n",
    "    clip.write_videofile(output_video, fps=fps)\n",
    "\n",
    "\n"
   ]
  },
  {
   "cell_type": "code",
   "execution_count": 20,
   "metadata": {},
   "outputs": [
    {
     "name": "stdout",
     "output_type": "stream",
     "text": [
      "Collecting plotly\n",
      "  Downloading plotly-6.0.1-py3-none-any.whl.metadata (6.7 kB)\n",
      "Collecting narwhals>=1.15.1 (from plotly)\n",
      "  Downloading narwhals-1.32.0-py3-none-any.whl.metadata (9.2 kB)\n",
      "Requirement already satisfied: packaging in d:\\anaconda3\\lib\\site-packages (from plotly) (23.2)\n",
      "Downloading plotly-6.0.1-py3-none-any.whl (14.8 MB)\n",
      "   ---------------------------------------- 0.0/14.8 MB ? eta -:--:--\n",
      "   - -------------------------------------- 0.4/14.8 MB 9.2 MB/s eta 0:00:02\n",
      "   -- ------------------------------------- 0.8/14.8 MB 9.6 MB/s eta 0:00:02\n",
      "   --- ------------------------------------ 1.3/14.8 MB 8.9 MB/s eta 0:00:02\n",
      "   ---- ----------------------------------- 1.7/14.8 MB 9.7 MB/s eta 0:00:02\n",
      "   ------ --------------------------------- 2.3/14.8 MB 10.4 MB/s eta 0:00:02\n",
      "   ------- -------------------------------- 2.8/14.8 MB 10.5 MB/s eta 0:00:02\n",
      "   --------- ------------------------------ 3.5/14.8 MB 10.6 MB/s eta 0:00:02\n",
      "   ----------- ---------------------------- 4.1/14.8 MB 10.5 MB/s eta 0:00:02\n",
      "   ------------ --------------------------- 4.6/14.8 MB 10.1 MB/s eta 0:00:02\n",
      "   ------------- -------------------------- 5.1/14.8 MB 9.9 MB/s eta 0:00:01\n",
      "   ---------------- ----------------------- 5.9/14.8 MB 10.2 MB/s eta 0:00:01\n",
      "   ----------------- ---------------------- 6.6/14.8 MB 10.2 MB/s eta 0:00:01\n",
      "   -------------------- ------------------- 7.4/14.8 MB 10.5 MB/s eta 0:00:01\n",
      "   ---------------------- ----------------- 8.2/14.8 MB 10.7 MB/s eta 0:00:01\n",
      "   ------------------------ --------------- 8.9/14.8 MB 10.8 MB/s eta 0:00:01\n",
      "   -------------------------- ------------- 9.8/14.8 MB 11.0 MB/s eta 0:00:01\n",
      "   ---------------------------- ----------- 10.6/14.8 MB 11.1 MB/s eta 0:00:01\n",
      "   ------------------------------ --------- 11.1/14.8 MB 11.3 MB/s eta 0:00:01\n",
      "   -------------------------------- ------- 11.9/14.8 MB 11.7 MB/s eta 0:00:01\n",
      "   ---------------------------------- ----- 12.6/14.8 MB 11.5 MB/s eta 0:00:01\n",
      "   ----------------------------------- ---- 13.2/14.8 MB 11.5 MB/s eta 0:00:01\n",
      "   ------------------------------------- -- 14.0/14.8 MB 11.5 MB/s eta 0:00:01\n",
      "   ---------------------------------------  14.7/14.8 MB 11.7 MB/s eta 0:00:01\n",
      "   ---------------------------------------  14.8/14.8 MB 11.7 MB/s eta 0:00:01\n",
      "   ---------------------------------------  14.8/14.8 MB 11.7 MB/s eta 0:00:01\n",
      "   ---------------------------------------- 14.8/14.8 MB 9.9 MB/s eta 0:00:00\n",
      "Downloading narwhals-1.32.0-py3-none-any.whl (320 kB)\n",
      "   ---------------------------------------- 0.0/320.1 kB ? eta -:--:--\n",
      "   ---------------------------------------- 320.1/320.1 kB 6.6 MB/s eta 0:00:00\n",
      "Installing collected packages: narwhals, plotly\n",
      "Successfully installed narwhals-1.32.0 plotly-6.0.1\n"
     ]
    },
    {
     "data": {
      "application/vnd.plotly.v1+json": {
       "config": {
        "plotlyServerURL": "https://plot.ly"
       },
       "data": [
        {
         "mode": "lines",
         "name": "Onset Envelope",
         "opacity": 0.7,
         "type": "scatter",
         "x": {
          "bdata": "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",
          "dtype": "f8"
         },
         "y": {
          "bdata": "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",
          "dtype": "f4"
         }
        },
        {
         "mode": "lines",
         "name": "Spectral Flux",
         "opacity": 0.7,
         "type": "scatter",
         "x": {
          "bdata": "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",
          "dtype": "f8"
         },
         "y": {
          "bdata": "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",
          "dtype": "f4"
         }
        },
        {
         "line": {
          "width": 2
         },
         "mode": "lines",
         "name": "Combined Signal",
         "type": "scatter",
         "x": {
          "bdata": "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",
          "dtype": "f8"
         },
         "y": {
          "bdata": "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",
          "dtype": "f4"
         }
        }
       ],
       "layout": {
        "height": 600,
        "legend": {
         "x": 0.01,
         "y": 0.99
        },
        "shapes": [
         {
          "line": {
           "color": "red",
           "dash": "dash"
          },
          "opacity": 0.6,
          "type": "line",
          "x0": 0.046439909297052155,
          "x1": 0.046439909297052155,
          "xref": "x",
          "y0": 0,
          "y1": 1,
          "yref": "y domain"
         },
         {
          "line": {
           "color": "red",
           "dash": "dash"
          },
          "opacity": 0.6,
          "type": "line",
          "x0": 0.2089795918367347,
          "x1": 0.2089795918367347,
          "xref": "x",
          "y0": 0,
          "y1": 1,
          "yref": "y domain"
         },
         {
          "line": {
           "color": "red",
           "dash": "dash"
          },
          "opacity": 0.6,
          "type": "line",
          "x0": 0.37151927437641724,
          "x1": 0.37151927437641724,
          "xref": "x",
          "y0": 0,
          "y1": 1,
          "yref": "y domain"
         },
         {
          "line": {
           "color": "red",
           "dash": "dash"
          },
          "opacity": 0.6,
          "type": "line",
          "x0": 0.46439909297052157,
          "x1": 0.46439909297052157,
          "xref": "x",
          "y0": 0,
          "y1": 1,
          "yref": "y domain"
         },
         {
          "line": {
           "color": "red",
           "dash": "dash"
          },
          "opacity": 0.6,
          "type": "line",
          "x0": 0.7198185941043084,
          "x1": 0.7198185941043084,
          "xref": "x",
          "y0": 0,
          "y1": 1,
          "yref": "y domain"
         },
         {
          "line": {
           "color": "red",
           "dash": "dash"
          },
          "opacity": 0.6,
          "type": "line",
          "x0": 0.905578231292517,
          "x1": 0.905578231292517,
          "xref": "x",
          "y0": 0,
          "y1": 1,
          "yref": "y domain"
         },
         {
          "line": {
           "color": "red",
           "dash": "dash"
          },
          "opacity": 0.6,
          "type": "line",
          "x0": 1.230657596371882,
          "x1": 1.230657596371882,
          "xref": "x",
          "y0": 0,
          "y1": 1,
          "yref": "y domain"
         },
         {
          "line": {
           "color": "red",
           "dash": "dash"
          },
          "opacity": 0.6,
          "type": "line",
          "x0": 1.3235374149659864,
          "x1": 1.3235374149659864,
          "xref": "x",
          "y0": 0,
          "y1": 1,
          "yref": "y domain"
         },
         {
          "line": {
           "color": "red",
           "dash": "dash"
          },
          "opacity": 0.6,
          "type": "line",
          "x0": 1.555736961451247,
          "x1": 1.555736961451247,
          "xref": "x",
          "y0": 0,
          "y1": 1,
          "yref": "y domain"
         },
         {
          "line": {
           "color": "red",
           "dash": "dash"
          },
          "opacity": 0.6,
          "type": "line",
          "x0": 1.6021768707482993,
          "x1": 1.6021768707482993,
          "xref": "x",
          "y0": 0,
          "y1": 1,
          "yref": "y domain"
         },
         {
          "line": {
           "color": "red",
           "dash": "dash"
          },
          "opacity": 0.6,
          "type": "line",
          "x0": 1.8575963718820863,
          "x1": 1.8575963718820863,
          "xref": "x",
          "y0": 0,
          "y1": 1,
          "yref": "y domain"
         },
         {
          "line": {
           "color": "red",
           "dash": "dash"
          },
          "opacity": 0.6,
          "type": "line",
          "x0": 1.9504761904761905,
          "x1": 1.9504761904761905,
          "xref": "x",
          "y0": 0,
          "y1": 1,
          "yref": "y domain"
         },
         {
          "line": {
           "color": "red",
           "dash": "dash"
          },
          "opacity": 0.6,
          "type": "line",
          "x0": 2.089795918367347,
          "x1": 2.089795918367347,
          "xref": "x",
          "y0": 0,
          "y1": 1,
          "yref": "y domain"
         },
         {
          "line": {
           "color": "red",
           "dash": "dash"
          },
          "opacity": 0.6,
          "type": "line",
          "x0": 2.36843537414966,
          "x1": 2.36843537414966,
          "xref": "x",
          "y0": 0,
          "y1": 1,
          "yref": "y domain"
         },
         {
          "line": {
           "color": "red",
           "dash": "dash"
          },
          "opacity": 0.6,
          "type": "line",
          "x0": 2.5309750566893423,
          "x1": 2.5309750566893423,
          "xref": "x",
          "y0": 0,
          "y1": 1,
          "yref": "y domain"
         },
         {
          "line": {
           "color": "red",
           "dash": "dash"
          },
          "opacity": 0.6,
          "type": "line",
          "x0": 2.647074829931973,
          "x1": 2.647074829931973,
          "xref": "x",
          "y0": 0,
          "y1": 1,
          "yref": "y domain"
         },
         {
          "line": {
           "color": "red",
           "dash": "dash"
          },
          "opacity": 0.6,
          "type": "line",
          "x0": 2.7631746031746034,
          "x1": 2.7631746031746034,
          "xref": "x",
          "y0": 0,
          "y1": 1,
          "yref": "y domain"
         },
         {
          "line": {
           "color": "red",
           "dash": "dash"
          },
          "opacity": 0.6,
          "type": "line",
          "x0": 2.7631746031746034,
          "x1": 2.7631746031746034,
          "xref": "x",
          "y0": 0,
          "y1": 1,
          "yref": "y domain"
         },
         {
          "line": {
           "color": "red",
           "dash": "dash"
          },
          "opacity": 0.6,
          "type": "line",
          "x0": 2.972154195011338,
          "x1": 2.972154195011338,
          "xref": "x",
          "y0": 0,
          "y1": 1,
          "yref": "y domain"
         },
         {
          "line": {
           "color": "red",
           "dash": "dash"
          },
          "opacity": 0.6,
          "type": "line",
          "x0": 3.1346938775510202,
          "x1": 3.1346938775510202,
          "xref": "x",
          "y0": 0,
          "y1": 1,
          "yref": "y domain"
         },
         {
          "line": {
           "color": "red",
           "dash": "dash"
          },
          "opacity": 0.6,
          "type": "line",
          "x0": 3.2043537414965986,
          "x1": 3.2043537414965986,
          "xref": "x",
          "y0": 0,
          "y1": 1,
          "yref": "y domain"
         },
         {
          "line": {
           "color": "red",
           "dash": "dash"
          },
          "opacity": 0.6,
          "type": "line",
          "x0": 3.3901133786848074,
          "x1": 3.3901133786848074,
          "xref": "x",
          "y0": 0,
          "y1": 1,
          "yref": "y domain"
         },
         {
          "line": {
           "color": "red",
           "dash": "dash"
          },
          "opacity": 0.6,
          "type": "line",
          "x0": 3.5294331065759637,
          "x1": 3.5294331065759637,
          "xref": "x",
          "y0": 0,
          "y1": 1,
          "yref": "y domain"
         },
         {
          "line": {
           "color": "red",
           "dash": "dash"
          },
          "opacity": 0.6,
          "type": "line",
          "x0": 3.599092970521542,
          "x1": 3.599092970521542,
          "xref": "x",
          "y0": 0,
          "y1": 1,
          "yref": "y domain"
         },
         {
          "line": {
           "color": "red",
           "dash": "dash"
          },
          "opacity": 0.6,
          "type": "line",
          "x0": 3.8080725623582765,
          "x1": 3.8080725623582765,
          "xref": "x",
          "y0": 0,
          "y1": 1,
          "yref": "y domain"
         },
         {
          "line": {
           "color": "red",
           "dash": "dash"
          },
          "opacity": 0.6,
          "type": "line",
          "x0": 3.9706122448979593,
          "x1": 3.9706122448979593,
          "xref": "x",
          "y0": 0,
          "y1": 1,
          "yref": "y domain"
         },
         {
          "line": {
           "color": "red",
           "dash": "dash"
          },
          "opacity": 0.6,
          "type": "line",
          "x0": 4.063492063492063,
          "x1": 4.063492063492063,
          "xref": "x",
          "y0": 0,
          "y1": 1,
          "yref": "y domain"
         },
         {
          "line": {
           "color": "red",
           "dash": "dash"
          },
          "opacity": 0.6,
          "type": "line",
          "x0": 4.249251700680272,
          "x1": 4.249251700680272,
          "xref": "x",
          "y0": 0,
          "y1": 1,
          "yref": "y domain"
         },
         {
          "line": {
           "color": "red",
           "dash": "dash"
          },
          "opacity": 0.6,
          "type": "line",
          "x0": 4.31891156462585,
          "x1": 4.31891156462585,
          "xref": "x",
          "y0": 0,
          "y1": 1,
          "yref": "y domain"
         },
         {
          "line": {
           "color": "red",
           "dash": "dash"
          },
          "opacity": 0.6,
          "type": "line",
          "x0": 4.435011337868481,
          "x1": 4.435011337868481,
          "xref": "x",
          "y0": 0,
          "y1": 1,
          "yref": "y domain"
         },
         {
          "line": {
           "color": "red",
           "dash": "dash"
          },
          "opacity": 0.6,
          "type": "line",
          "x0": 4.574331065759637,
          "x1": 4.574331065759637,
          "xref": "x",
          "y0": 0,
          "y1": 1,
          "yref": "y domain"
         },
         {
          "line": {
           "color": "red",
           "dash": "dash"
          },
          "opacity": 0.6,
          "type": "line",
          "x0": 4.760090702947846,
          "x1": 4.760090702947846,
          "xref": "x",
          "y0": 0,
          "y1": 1,
          "yref": "y domain"
         },
         {
          "line": {
           "color": "red",
           "dash": "dash"
          },
          "opacity": 0.6,
          "type": "line",
          "x0": 4.829750566893424,
          "x1": 4.829750566893424,
          "xref": "x",
          "y0": 0,
          "y1": 1,
          "yref": "y domain"
         },
         {
          "line": {
           "color": "red",
           "dash": "dash"
          },
          "opacity": 0.6,
          "type": "line",
          "x0": 5.038730158730159,
          "x1": 5.038730158730159,
          "xref": "x",
          "y0": 0,
          "y1": 1,
          "yref": "y domain"
         },
         {
          "line": {
           "color": "red",
           "dash": "dash"
          },
          "opacity": 0.6,
          "type": "line",
          "x0": 5.131609977324263,
          "x1": 5.131609977324263,
          "xref": "x",
          "y0": 0,
          "y1": 1,
          "yref": "y domain"
         },
         {
          "line": {
           "color": "red",
           "dash": "dash"
          },
          "opacity": 0.6,
          "type": "line",
          "x0": 5.270929705215419,
          "x1": 5.270929705215419,
          "xref": "x",
          "y0": 0,
          "y1": 1,
          "yref": "y domain"
         },
         {
          "line": {
           "color": "red",
           "dash": "dash"
          },
          "opacity": 0.6,
          "type": "line",
          "x0": 5.270929705215419,
          "x1": 5.270929705215419,
          "xref": "x",
          "y0": 0,
          "y1": 1,
          "yref": "y domain"
         },
         {
          "line": {
           "color": "red",
           "dash": "dash"
          },
          "opacity": 0.6,
          "type": "line",
          "x0": 5.5495691609977325,
          "x1": 5.5495691609977325,
          "xref": "x",
          "y0": 0,
          "y1": 1,
          "yref": "y domain"
         },
         {
          "line": {
           "color": "red",
           "dash": "dash"
          },
          "opacity": 0.6,
          "type": "line",
          "x0": 5.596009070294785,
          "x1": 5.596009070294785,
          "xref": "x",
          "y0": 0,
          "y1": 1,
          "yref": "y domain"
         },
         {
          "line": {
           "color": "red",
           "dash": "dash"
          },
          "opacity": 0.6,
          "type": "line",
          "x0": 5.688888888888889,
          "x1": 5.688888888888889,
          "xref": "x",
          "y0": 0,
          "y1": 1,
          "yref": "y domain"
         },
         {
          "line": {
           "color": "red",
           "dash": "dash"
          },
          "opacity": 0.6,
          "type": "line",
          "x0": 5.874648526077097,
          "x1": 5.874648526077097,
          "xref": "x",
          "y0": 0,
          "y1": 1,
          "yref": "y domain"
         },
         {
          "line": {
           "color": "red",
           "dash": "dash"
          },
          "opacity": 0.6,
          "type": "line",
          "x0": 5.9675283446712015,
          "x1": 5.9675283446712015,
          "xref": "x",
          "y0": 0,
          "y1": 1,
          "yref": "y domain"
         },
         {
          "line": {
           "color": "red",
           "dash": "dash"
          },
          "opacity": 0.6,
          "type": "line",
          "x0": 6.130068027210885,
          "x1": 6.130068027210885,
          "xref": "x",
          "y0": 0,
          "y1": 1,
          "yref": "y domain"
         },
         {
          "line": {
           "color": "red",
           "dash": "dash"
          },
          "opacity": 0.6,
          "type": "line",
          "x0": 6.199727891156463,
          "x1": 6.199727891156463,
          "xref": "x",
          "y0": 0,
          "y1": 1,
          "yref": "y domain"
         },
         {
          "line": {
           "color": "red",
           "dash": "dash"
          },
          "opacity": 0.6,
          "type": "line",
          "x0": 6.2693877551020405,
          "x1": 6.2693877551020405,
          "xref": "x",
          "y0": 0,
          "y1": 1,
          "yref": "y domain"
         },
         {
          "line": {
           "color": "red",
           "dash": "dash"
          },
          "opacity": 0.6,
          "type": "line",
          "x0": 6.3854875283446715,
          "x1": 6.3854875283446715,
          "xref": "x",
          "y0": 0,
          "y1": 1,
          "yref": "y domain"
         },
         {
          "line": {
           "color": "red",
           "dash": "dash"
          },
          "opacity": 0.6,
          "type": "line",
          "x0": 6.455147392290249,
          "x1": 6.455147392290249,
          "xref": "x",
          "y0": 0,
          "y1": 1,
          "yref": "y domain"
         },
         {
          "line": {
           "color": "red",
           "dash": "dash"
          },
          "opacity": 0.6,
          "type": "line",
          "x0": 6.617687074829932,
          "x1": 6.617687074829932,
          "xref": "x",
          "y0": 0,
          "y1": 1,
          "yref": "y domain"
         },
         {
          "line": {
           "color": "red",
           "dash": "dash"
          },
          "opacity": 0.6,
          "type": "line",
          "x0": 6.664126984126984,
          "x1": 6.664126984126984,
          "xref": "x",
          "y0": 0,
          "y1": 1,
          "yref": "y domain"
         },
         {
          "line": {
           "color": "red",
           "dash": "dash"
          },
          "opacity": 0.6,
          "type": "line",
          "x0": 6.780226757369615,
          "x1": 6.780226757369615,
          "xref": "x",
          "y0": 0,
          "y1": 1,
          "yref": "y domain"
         },
         {
          "line": {
           "color": "red",
           "dash": "dash"
          },
          "opacity": 0.6,
          "type": "line",
          "x0": 7.012426303854875,
          "x1": 7.012426303854875,
          "xref": "x",
          "y0": 0,
          "y1": 1,
          "yref": "y domain"
         },
         {
          "line": {
           "color": "red",
           "dash": "dash"
          },
          "opacity": 0.6,
          "type": "line",
          "x0": 7.058866213151927,
          "x1": 7.058866213151927,
          "xref": "x",
          "y0": 0,
          "y1": 1,
          "yref": "y domain"
         },
         {
          "line": {
           "color": "red",
           "dash": "dash"
          },
          "opacity": 0.6,
          "type": "line",
          "x0": 7.151746031746032,
          "x1": 7.151746031746032,
          "xref": "x",
          "y0": 0,
          "y1": 1,
          "yref": "y domain"
         },
         {
          "line": {
           "color": "red",
           "dash": "dash"
          },
          "opacity": 0.6,
          "type": "line",
          "x0": 7.244625850340136,
          "x1": 7.244625850340136,
          "xref": "x",
          "y0": 0,
          "y1": 1,
          "yref": "y domain"
         },
         {
          "line": {
           "color": "red",
           "dash": "dash"
          },
          "opacity": 0.6,
          "type": "line",
          "x0": 7.337505668934241,
          "x1": 7.337505668934241,
          "xref": "x",
          "y0": 0,
          "y1": 1,
          "yref": "y domain"
         },
         {
          "line": {
           "color": "red",
           "dash": "dash"
          },
          "opacity": 0.6,
          "type": "line",
          "x0": 7.569705215419501,
          "x1": 7.569705215419501,
          "xref": "x",
          "y0": 0,
          "y1": 1,
          "yref": "y domain"
         },
         {
          "line": {
           "color": "red",
           "dash": "dash"
          },
          "opacity": 0.6,
          "type": "line",
          "x0": 7.685804988662132,
          "x1": 7.685804988662132,
          "xref": "x",
          "y0": 0,
          "y1": 1,
          "yref": "y domain"
         },
         {
          "line": {
           "color": "red",
           "dash": "dash"
          },
          "opacity": 0.6,
          "type": "line",
          "x0": 7.987664399092971,
          "x1": 7.987664399092971,
          "xref": "x",
          "y0": 0,
          "y1": 1,
          "yref": "y domain"
         },
         {
          "line": {
           "color": "red",
           "dash": "dash"
          },
          "opacity": 0.6,
          "type": "line",
          "x0": 8.428843537414966,
          "x1": 8.428843537414966,
          "xref": "x",
          "y0": 0,
          "y1": 1,
          "yref": "y domain"
         },
         {
          "line": {
           "color": "red",
           "dash": "dash"
          },
          "opacity": 0.6,
          "type": "line",
          "x0": 8.591383219954649,
          "x1": 8.591383219954649,
          "xref": "x",
          "y0": 0,
          "y1": 1,
          "yref": "y domain"
         },
         {
          "line": {
           "color": "red",
           "dash": "dash"
          },
          "opacity": 0.6,
          "type": "line",
          "x0": 8.800362811791382,
          "x1": 8.800362811791382,
          "xref": "x",
          "y0": 0,
          "y1": 1,
          "yref": "y domain"
         },
         {
          "line": {
           "color": "red",
           "dash": "dash"
          },
          "opacity": 0.6,
          "type": "line",
          "x0": 8.916462585034013,
          "x1": 8.916462585034013,
          "xref": "x",
          "y0": 0,
          "y1": 1,
          "yref": "y domain"
         },
         {
          "line": {
           "color": "red",
           "dash": "dash"
          },
          "opacity": 0.6,
          "type": "line",
          "x0": 8.986122448979591,
          "x1": 8.986122448979591,
          "xref": "x",
          "y0": 0,
          "y1": 1,
          "yref": "y domain"
         },
         {
          "line": {
           "color": "red",
           "dash": "dash"
          },
          "opacity": 0.6,
          "type": "line",
          "x0": 9.102222222222222,
          "x1": 9.102222222222222,
          "xref": "x",
          "y0": 0,
          "y1": 1,
          "yref": "y domain"
         },
         {
          "line": {
           "color": "red",
           "dash": "dash"
          },
          "opacity": 0.6,
          "type": "line",
          "x0": 9.102222222222222,
          "x1": 9.102222222222222,
          "xref": "x",
          "y0": 0,
          "y1": 1,
          "yref": "y domain"
         },
         {
          "line": {
           "color": "red",
           "dash": "dash"
          },
          "opacity": 0.6,
          "type": "line",
          "x0": 9.218321995464853,
          "x1": 9.218321995464853,
          "xref": "x",
          "y0": 0,
          "y1": 1,
          "yref": "y domain"
         },
         {
          "line": {
           "color": "red",
           "dash": "dash"
          },
          "opacity": 0.6,
          "type": "line",
          "x0": 9.520181405895691,
          "x1": 9.520181405895691,
          "xref": "x",
          "y0": 0,
          "y1": 1,
          "yref": "y domain"
         },
         {
          "line": {
           "color": "red",
           "dash": "dash"
          },
          "opacity": 0.6,
          "type": "line",
          "x0": 9.659501133786849,
          "x1": 9.659501133786849,
          "xref": "x",
          "y0": 0,
          "y1": 1,
          "yref": "y domain"
         },
         {
          "line": {
           "color": "red",
           "dash": "dash"
          },
          "opacity": 0.6,
          "type": "line",
          "x0": 9.775600907029478,
          "x1": 9.775600907029478,
          "xref": "x",
          "y0": 0,
          "y1": 1,
          "yref": "y domain"
         },
         {
          "line": {
           "color": "red",
           "dash": "dash"
          },
          "opacity": 0.6,
          "type": "line",
          "x0": 9.822040816326531,
          "x1": 9.822040816326531,
          "xref": "x",
          "y0": 0,
          "y1": 1,
          "yref": "y domain"
         },
         {
          "line": {
           "color": "red",
           "dash": "dash"
          },
          "opacity": 0.6,
          "type": "line",
          "x0": 9.914920634920636,
          "x1": 9.914920634920636,
          "xref": "x",
          "y0": 0,
          "y1": 1,
          "yref": "y domain"
         },
         {
          "line": {
           "color": "red",
           "dash": "dash"
          },
          "opacity": 0.6,
          "type": "line",
          "x0": 10.077460317460318,
          "x1": 10.077460317460318,
          "xref": "x",
          "y0": 0,
          "y1": 1,
          "yref": "y domain"
         },
         {
          "line": {
           "color": "red",
           "dash": "dash"
          },
          "opacity": 0.6,
          "type": "line",
          "x0": 10.332879818594105,
          "x1": 10.332879818594105,
          "xref": "x",
          "y0": 0,
          "y1": 1,
          "yref": "y domain"
         },
         {
          "line": {
           "color": "red",
           "dash": "dash"
          },
          "opacity": 0.6,
          "type": "line",
          "x0": 10.332879818594105,
          "x1": 10.332879818594105,
          "xref": "x",
          "y0": 0,
          "y1": 1,
          "yref": "y domain"
         },
         {
          "line": {
           "color": "red",
           "dash": "dash"
          },
          "opacity": 0.6,
          "type": "line",
          "x0": 10.47219954648526,
          "x1": 10.47219954648526,
          "xref": "x",
          "y0": 0,
          "y1": 1,
          "yref": "y domain"
         },
         {
          "line": {
           "color": "red",
           "dash": "dash"
          },
          "opacity": 0.6,
          "type": "line",
          "x0": 10.65795918367347,
          "x1": 10.65795918367347,
          "xref": "x",
          "y0": 0,
          "y1": 1,
          "yref": "y domain"
         },
         {
          "line": {
           "color": "red",
           "dash": "dash"
          },
          "opacity": 0.6,
          "type": "line",
          "x0": 10.727619047619047,
          "x1": 10.727619047619047,
          "xref": "x",
          "y0": 0,
          "y1": 1,
          "yref": "y domain"
         },
         {
          "line": {
           "color": "red",
           "dash": "dash"
          },
          "opacity": 0.6,
          "type": "line",
          "x0": 10.797278911564625,
          "x1": 10.797278911564625,
          "xref": "x",
          "y0": 0,
          "y1": 1,
          "yref": "y domain"
         },
         {
          "line": {
           "color": "red",
           "dash": "dash"
          },
          "opacity": 0.6,
          "type": "line",
          "x0": 10.866938775510205,
          "x1": 10.866938775510205,
          "xref": "x",
          "y0": 0,
          "y1": 1,
          "yref": "y domain"
         },
         {
          "line": {
           "color": "red",
           "dash": "dash"
          },
          "opacity": 0.6,
          "type": "line",
          "x0": 11.052698412698414,
          "x1": 11.052698412698414,
          "xref": "x",
          "y0": 0,
          "y1": 1,
          "yref": "y domain"
         },
         {
          "line": {
           "color": "red",
           "dash": "dash"
          },
          "opacity": 0.6,
          "type": "line",
          "x0": 11.19201814058957,
          "x1": 11.19201814058957,
          "xref": "x",
          "y0": 0,
          "y1": 1,
          "yref": "y domain"
         },
         {
          "line": {
           "color": "red",
           "dash": "dash"
          },
          "opacity": 0.6,
          "type": "line",
          "x0": 11.447437641723356,
          "x1": 11.447437641723356,
          "xref": "x",
          "y0": 0,
          "y1": 1,
          "yref": "y domain"
         },
         {
          "line": {
           "color": "red",
           "dash": "dash"
          },
          "opacity": 0.6,
          "type": "line",
          "x0": 11.609977324263038,
          "x1": 11.609977324263038,
          "xref": "x",
          "y0": 0,
          "y1": 1,
          "yref": "y domain"
         },
         {
          "line": {
           "color": "red",
           "dash": "dash"
          },
          "opacity": 0.6,
          "type": "line",
          "x0": 11.72607709750567,
          "x1": 11.72607709750567,
          "xref": "x",
          "y0": 0,
          "y1": 1,
          "yref": "y domain"
         },
         {
          "line": {
           "color": "red",
           "dash": "dash"
          },
          "opacity": 0.6,
          "type": "line",
          "x0": 11.818956916099774,
          "x1": 11.818956916099774,
          "xref": "x",
          "y0": 0,
          "y1": 1,
          "yref": "y domain"
         },
         {
          "line": {
           "color": "red",
           "dash": "dash"
          },
          "opacity": 0.6,
          "type": "line",
          "x0": 11.911836734693878,
          "x1": 11.911836734693878,
          "xref": "x",
          "y0": 0,
          "y1": 1,
          "yref": "y domain"
         },
         {
          "line": {
           "color": "red",
           "dash": "dash"
          },
          "opacity": 0.6,
          "type": "line",
          "x0": 12.07437641723356,
          "x1": 12.07437641723356,
          "xref": "x",
          "y0": 0,
          "y1": 1,
          "yref": "y domain"
         },
         {
          "line": {
           "color": "red",
           "dash": "dash"
          },
          "opacity": 0.6,
          "type": "line",
          "x0": 12.167256235827665,
          "x1": 12.167256235827665,
          "xref": "x",
          "y0": 0,
          "y1": 1,
          "yref": "y domain"
         },
         {
          "line": {
           "color": "red",
           "dash": "dash"
          },
          "opacity": 0.6,
          "type": "line",
          "x0": 12.283356009070294,
          "x1": 12.283356009070294,
          "xref": "x",
          "y0": 0,
          "y1": 1,
          "yref": "y domain"
         },
         {
          "line": {
           "color": "red",
           "dash": "dash"
          },
          "opacity": 0.6,
          "type": "line",
          "x0": 12.329795918367347,
          "x1": 12.329795918367347,
          "xref": "x",
          "y0": 0,
          "y1": 1,
          "yref": "y domain"
         },
         {
          "line": {
           "color": "red",
           "dash": "dash"
          },
          "opacity": 0.6,
          "type": "line",
          "x0": 12.422675736961452,
          "x1": 12.422675736961452,
          "xref": "x",
          "y0": 0,
          "y1": 1,
          "yref": "y domain"
         },
         {
          "line": {
           "color": "red",
           "dash": "dash"
          },
          "opacity": 0.6,
          "type": "line",
          "x0": 12.561995464852608,
          "x1": 12.561995464852608,
          "xref": "x",
          "y0": 0,
          "y1": 1,
          "yref": "y domain"
         },
         {
          "line": {
           "color": "red",
           "dash": "dash"
          },
          "opacity": 0.6,
          "type": "line",
          "x0": 12.60843537414966,
          "x1": 12.60843537414966,
          "xref": "x",
          "y0": 0,
          "y1": 1,
          "yref": "y domain"
         },
         {
          "line": {
           "color": "red",
           "dash": "dash"
          },
          "opacity": 0.6,
          "type": "line",
          "x0": 12.747755102040816,
          "x1": 12.747755102040816,
          "xref": "x",
          "y0": 0,
          "y1": 1,
          "yref": "y domain"
         },
         {
          "line": {
           "color": "red",
           "dash": "dash"
          },
          "opacity": 0.6,
          "type": "line",
          "x0": 12.817414965986394,
          "x1": 12.817414965986394,
          "xref": "x",
          "y0": 0,
          "y1": 1,
          "yref": "y domain"
         },
         {
          "line": {
           "color": "red",
           "dash": "dash"
          },
          "opacity": 0.6,
          "type": "line",
          "x0": 13.165714285714285,
          "x1": 13.165714285714285,
          "xref": "x",
          "y0": 0,
          "y1": 1,
          "yref": "y domain"
         },
         {
          "line": {
           "color": "red",
           "dash": "dash"
          },
          "opacity": 0.6,
          "type": "line",
          "x0": 13.25859410430839,
          "x1": 13.25859410430839,
          "xref": "x",
          "y0": 0,
          "y1": 1,
          "yref": "y domain"
         },
         {
          "line": {
           "color": "red",
           "dash": "dash"
          },
          "opacity": 0.6,
          "type": "line",
          "x0": 13.397913832199546,
          "x1": 13.397913832199546,
          "xref": "x",
          "y0": 0,
          "y1": 1,
          "yref": "y domain"
         },
         {
          "line": {
           "color": "red",
           "dash": "dash"
          },
          "opacity": 0.6,
          "type": "line",
          "x0": 13.537233560090703,
          "x1": 13.537233560090703,
          "xref": "x",
          "y0": 0,
          "y1": 1,
          "yref": "y domain"
         },
         {
          "line": {
           "color": "red",
           "dash": "dash"
          },
          "opacity": 0.6,
          "type": "line",
          "x0": 13.676553287981859,
          "x1": 13.676553287981859,
          "xref": "x",
          "y0": 0,
          "y1": 1,
          "yref": "y domain"
         },
         {
          "line": {
           "color": "red",
           "dash": "dash"
          },
          "opacity": 0.6,
          "type": "line",
          "x0": 13.676553287981859,
          "x1": 13.676553287981859,
          "xref": "x",
          "y0": 0,
          "y1": 1,
          "yref": "y domain"
         },
         {
          "line": {
           "color": "red",
           "dash": "dash"
          },
          "opacity": 0.6,
          "type": "line",
          "x0": 13.862312925170068,
          "x1": 13.862312925170068,
          "xref": "x",
          "y0": 0,
          "y1": 1,
          "yref": "y domain"
         },
         {
          "line": {
           "color": "red",
           "dash": "dash"
          },
          "opacity": 0.6,
          "type": "line",
          "x0": 13.955192743764172,
          "x1": 13.955192743764172,
          "xref": "x",
          "y0": 0,
          "y1": 1,
          "yref": "y domain"
         },
         {
          "line": {
           "color": "red",
           "dash": "dash"
          },
          "opacity": 0.6,
          "type": "line",
          "x0": 14.001632653061224,
          "x1": 14.001632653061224,
          "xref": "x",
          "y0": 0,
          "y1": 1,
          "yref": "y domain"
         },
         {
          "line": {
           "color": "red",
           "dash": "dash"
          },
          "opacity": 0.6,
          "type": "line",
          "x0": 14.117732426303855,
          "x1": 14.117732426303855,
          "xref": "x",
          "y0": 0,
          "y1": 1,
          "yref": "y domain"
         },
         {
          "line": {
           "color": "red",
           "dash": "dash"
          },
          "opacity": 0.6,
          "type": "line",
          "x0": 14.233832199546486,
          "x1": 14.233832199546486,
          "xref": "x",
          "y0": 0,
          "y1": 1,
          "yref": "y domain"
         },
         {
          "line": {
           "color": "red",
           "dash": "dash"
          },
          "opacity": 0.6,
          "type": "line",
          "x0": 14.44281179138322,
          "x1": 14.44281179138322,
          "xref": "x",
          "y0": 0,
          "y1": 1,
          "yref": "y domain"
         },
         {
          "line": {
           "color": "red",
           "dash": "dash"
          },
          "opacity": 0.6,
          "type": "line",
          "x0": 14.582131519274377,
          "x1": 14.582131519274377,
          "xref": "x",
          "y0": 0,
          "y1": 1,
          "yref": "y domain"
         },
         {
          "line": {
           "color": "red",
           "dash": "dash"
          },
          "opacity": 0.6,
          "type": "line",
          "x0": 14.675011337868481,
          "x1": 14.675011337868481,
          "xref": "x",
          "y0": 0,
          "y1": 1,
          "yref": "y domain"
         },
         {
          "line": {
           "color": "red",
           "dash": "dash"
          },
          "opacity": 0.6,
          "type": "line",
          "x0": 14.86077097505669,
          "x1": 14.86077097505669,
          "xref": "x",
          "y0": 0,
          "y1": 1,
          "yref": "y domain"
         },
         {
          "line": {
           "color": "red",
           "dash": "dash"
          },
          "opacity": 0.6,
          "type": "line",
          "x0": 15.09297052154195,
          "x1": 15.09297052154195,
          "xref": "x",
          "y0": 0,
          "y1": 1,
          "yref": "y domain"
         },
         {
          "line": {
           "color": "red",
           "dash": "dash"
          },
          "opacity": 0.6,
          "type": "line",
          "x0": 15.209070294784581,
          "x1": 15.209070294784581,
          "xref": "x",
          "y0": 0,
          "y1": 1,
          "yref": "y domain"
         },
         {
          "line": {
           "color": "red",
           "dash": "dash"
          },
          "opacity": 0.6,
          "type": "line",
          "x0": 15.464489795918368,
          "x1": 15.464489795918368,
          "xref": "x",
          "y0": 0,
          "y1": 1,
          "yref": "y domain"
         },
         {
          "line": {
           "color": "red",
           "dash": "dash"
          },
          "opacity": 0.6,
          "type": "line",
          "x0": 15.650249433106575,
          "x1": 15.650249433106575,
          "xref": "x",
          "y0": 0,
          "y1": 1,
          "yref": "y domain"
         },
         {
          "line": {
           "color": "red",
           "dash": "dash"
          },
          "opacity": 0.6,
          "type": "line",
          "x0": 15.952108843537415,
          "x1": 15.952108843537415,
          "xref": "x",
          "y0": 0,
          "y1": 1,
          "yref": "y domain"
         },
         {
          "line": {
           "color": "red",
           "dash": "dash"
          },
          "opacity": 0.6,
          "type": "line",
          "x0": 16.068208616780044,
          "x1": 16.068208616780044,
          "xref": "x",
          "y0": 0,
          "y1": 1,
          "yref": "y domain"
         },
         {
          "line": {
           "color": "red",
           "dash": "dash"
          },
          "opacity": 0.6,
          "type": "line",
          "x0": 16.555827664399093,
          "x1": 16.555827664399093,
          "xref": "x",
          "y0": 0,
          "y1": 1,
          "yref": "y domain"
         },
         {
          "line": {
           "color": "red",
           "dash": "dash"
          },
          "opacity": 0.6,
          "type": "line",
          "x0": 16.69514739229025,
          "x1": 16.69514739229025,
          "xref": "x",
          "y0": 0,
          "y1": 1,
          "yref": "y domain"
         },
         {
          "line": {
           "color": "red",
           "dash": "dash"
          },
          "opacity": 0.6,
          "type": "line",
          "x0": 17.623945578231293,
          "x1": 17.623945578231293,
          "xref": "x",
          "y0": 0,
          "y1": 1,
          "yref": "y domain"
         },
         {
          "line": {
           "color": "red",
           "dash": "dash"
          },
          "opacity": 0.6,
          "type": "line",
          "x0": 17.972244897959182,
          "x1": 17.972244897959182,
          "xref": "x",
          "y0": 0,
          "y1": 1,
          "yref": "y domain"
         },
         {
          "line": {
           "color": "red",
           "dash": "dash"
          },
          "opacity": 0.6,
          "type": "line",
          "x0": 18.204444444444444,
          "x1": 18.204444444444444,
          "xref": "x",
          "y0": 0,
          "y1": 1,
          "yref": "y domain"
         },
         {
          "line": {
           "color": "red",
           "dash": "dash"
          },
          "opacity": 0.6,
          "type": "line",
          "x0": 18.668843537414965,
          "x1": 18.668843537414965,
          "xref": "x",
          "y0": 0,
          "y1": 1,
          "yref": "y domain"
         },
         {
          "line": {
           "color": "red",
           "dash": "dash"
          },
          "opacity": 0.6,
          "type": "line",
          "x0": 19.13324263038549,
          "x1": 19.13324263038549,
          "xref": "x",
          "y0": 0,
          "y1": 1,
          "yref": "y domain"
         },
         {
          "line": {
           "color": "red",
           "dash": "dash"
          },
          "opacity": 0.6,
          "type": "line",
          "x0": 19.574421768707484,
          "x1": 19.574421768707484,
          "xref": "x",
          "y0": 0,
          "y1": 1,
          "yref": "y domain"
         },
         {
          "line": {
           "color": "red",
           "dash": "dash"
          },
          "opacity": 0.6,
          "type": "line",
          "x0": 19.71374149659864,
          "x1": 19.71374149659864,
          "xref": "x",
          "y0": 0,
          "y1": 1,
          "yref": "y domain"
         },
         {
          "line": {
           "color": "red",
           "dash": "dash"
          },
          "opacity": 0.6,
          "type": "line",
          "x0": 19.853061224489796,
          "x1": 19.853061224489796,
          "xref": "x",
          "y0": 0,
          "y1": 1,
          "yref": "y domain"
         },
         {
          "line": {
           "color": "red",
           "dash": "dash"
          },
          "opacity": 0.6,
          "type": "line",
          "x0": 20.224580498866214,
          "x1": 20.224580498866214,
          "xref": "x",
          "y0": 0,
          "y1": 1,
          "yref": "y domain"
         },
         {
          "line": {
           "color": "red",
           "dash": "dash"
          },
          "opacity": 0.6,
          "type": "line",
          "x0": 20.619319727891156,
          "x1": 20.619319727891156,
          "xref": "x",
          "y0": 0,
          "y1": 1,
          "yref": "y domain"
         },
         {
          "line": {
           "color": "red",
           "dash": "dash"
          },
          "opacity": 0.6,
          "type": "line",
          "x0": 20.82829931972789,
          "x1": 20.82829931972789,
          "xref": "x",
          "y0": 0,
          "y1": 1,
          "yref": "y domain"
         },
         {
          "line": {
           "color": "red",
           "dash": "dash"
          },
          "opacity": 0.6,
          "type": "line",
          "x0": 20.94439909297052,
          "x1": 20.94439909297052,
          "xref": "x",
          "y0": 0,
          "y1": 1,
          "yref": "y domain"
         }
        ],
        "template": {
         "data": {
          "bar": [
           {
            "error_x": {
             "color": "#2a3f5f"
            },
            "error_y": {
             "color": "#2a3f5f"
            },
            "marker": {
             "line": {
              "color": "#E5ECF6",
              "width": 0.5
             },
             "pattern": {
              "fillmode": "overlay",
              "size": 10,
              "solidity": 0.2
             }
            },
            "type": "bar"
           }
          ],
          "barpolar": [
           {
            "marker": {
             "line": {
              "color": "#E5ECF6",
              "width": 0.5
             },
             "pattern": {
              "fillmode": "overlay",
              "size": 10,
              "solidity": 0.2
             }
            },
            "type": "barpolar"
           }
          ],
          "carpet": [
           {
            "aaxis": {
             "endlinecolor": "#2a3f5f",
             "gridcolor": "white",
             "linecolor": "white",
             "minorgridcolor": "white",
             "startlinecolor": "#2a3f5f"
            },
            "baxis": {
             "endlinecolor": "#2a3f5f",
             "gridcolor": "white",
             "linecolor": "white",
             "minorgridcolor": "white",
             "startlinecolor": "#2a3f5f"
            },
            "type": "carpet"
           }
          ],
          "choropleth": [
           {
            "colorbar": {
             "outlinewidth": 0,
             "ticks": ""
            },
            "type": "choropleth"
           }
          ],
          "contour": [
           {
            "colorbar": {
             "outlinewidth": 0,
             "ticks": ""
            },
            "colorscale": [
             [
              0,
              "#0d0887"
             ],
             [
              0.1111111111111111,
              "#46039f"
             ],
             [
              0.2222222222222222,
              "#7201a8"
             ],
             [
              0.3333333333333333,
              "#9c179e"
             ],
             [
              0.4444444444444444,
              "#bd3786"
             ],
             [
              0.5555555555555556,
              "#d8576b"
             ],
             [
              0.6666666666666666,
              "#ed7953"
             ],
             [
              0.7777777777777778,
              "#fb9f3a"
             ],
             [
              0.8888888888888888,
              "#fdca26"
             ],
             [
              1,
              "#f0f921"
             ]
            ],
            "type": "contour"
           }
          ],
          "contourcarpet": [
           {
            "colorbar": {
             "outlinewidth": 0,
             "ticks": ""
            },
            "type": "contourcarpet"
           }
          ],
          "heatmap": [
           {
            "colorbar": {
             "outlinewidth": 0,
             "ticks": ""
            },
            "colorscale": [
             [
              0,
              "#0d0887"
             ],
             [
              0.1111111111111111,
              "#46039f"
             ],
             [
              0.2222222222222222,
              "#7201a8"
             ],
             [
              0.3333333333333333,
              "#9c179e"
             ],
             [
              0.4444444444444444,
              "#bd3786"
             ],
             [
              0.5555555555555556,
              "#d8576b"
             ],
             [
              0.6666666666666666,
              "#ed7953"
             ],
             [
              0.7777777777777778,
              "#fb9f3a"
             ],
             [
              0.8888888888888888,
              "#fdca26"
             ],
             [
              1,
              "#f0f921"
             ]
            ],
            "type": "heatmap"
           }
          ],
          "histogram": [
           {
            "marker": {
             "pattern": {
              "fillmode": "overlay",
              "size": 10,
              "solidity": 0.2
             }
            },
            "type": "histogram"
           }
          ],
          "histogram2d": [
           {
            "colorbar": {
             "outlinewidth": 0,
             "ticks": ""
            },
            "colorscale": [
             [
              0,
              "#0d0887"
             ],
             [
              0.1111111111111111,
              "#46039f"
             ],
             [
              0.2222222222222222,
              "#7201a8"
             ],
             [
              0.3333333333333333,
              "#9c179e"
             ],
             [
              0.4444444444444444,
              "#bd3786"
             ],
             [
              0.5555555555555556,
              "#d8576b"
             ],
             [
              0.6666666666666666,
              "#ed7953"
             ],
             [
              0.7777777777777778,
              "#fb9f3a"
             ],
             [
              0.8888888888888888,
              "#fdca26"
             ],
             [
              1,
              "#f0f921"
             ]
            ],
            "type": "histogram2d"
           }
          ],
          "histogram2dcontour": [
           {
            "colorbar": {
             "outlinewidth": 0,
             "ticks": ""
            },
            "colorscale": [
             [
              0,
              "#0d0887"
             ],
             [
              0.1111111111111111,
              "#46039f"
             ],
             [
              0.2222222222222222,
              "#7201a8"
             ],
             [
              0.3333333333333333,
              "#9c179e"
             ],
             [
              0.4444444444444444,
              "#bd3786"
             ],
             [
              0.5555555555555556,
              "#d8576b"
             ],
             [
              0.6666666666666666,
              "#ed7953"
             ],
             [
              0.7777777777777778,
              "#fb9f3a"
             ],
             [
              0.8888888888888888,
              "#fdca26"
             ],
             [
              1,
              "#f0f921"
             ]
            ],
            "type": "histogram2dcontour"
           }
          ],
          "mesh3d": [
           {
            "colorbar": {
             "outlinewidth": 0,
             "ticks": ""
            },
            "type": "mesh3d"
           }
          ],
          "parcoords": [
           {
            "line": {
             "colorbar": {
              "outlinewidth": 0,
              "ticks": ""
             }
            },
            "type": "parcoords"
           }
          ],
          "pie": [
           {
            "automargin": true,
            "type": "pie"
           }
          ],
          "scatter": [
           {
            "fillpattern": {
             "fillmode": "overlay",
             "size": 10,
             "solidity": 0.2
            },
            "type": "scatter"
           }
          ],
          "scatter3d": [
           {
            "line": {
             "colorbar": {
              "outlinewidth": 0,
              "ticks": ""
             }
            },
            "marker": {
             "colorbar": {
              "outlinewidth": 0,
              "ticks": ""
             }
            },
            "type": "scatter3d"
           }
          ],
          "scattercarpet": [
           {
            "marker": {
             "colorbar": {
              "outlinewidth": 0,
              "ticks": ""
             }
            },
            "type": "scattercarpet"
           }
          ],
          "scattergeo": [
           {
            "marker": {
             "colorbar": {
              "outlinewidth": 0,
              "ticks": ""
             }
            },
            "type": "scattergeo"
           }
          ],
          "scattergl": [
           {
            "marker": {
             "colorbar": {
              "outlinewidth": 0,
              "ticks": ""
             }
            },
            "type": "scattergl"
           }
          ],
          "scattermap": [
           {
            "marker": {
             "colorbar": {
              "outlinewidth": 0,
              "ticks": ""
             }
            },
            "type": "scattermap"
           }
          ],
          "scattermapbox": [
           {
            "marker": {
             "colorbar": {
              "outlinewidth": 0,
              "ticks": ""
             }
            },
            "type": "scattermapbox"
           }
          ],
          "scatterpolar": [
           {
            "marker": {
             "colorbar": {
              "outlinewidth": 0,
              "ticks": ""
             }
            },
            "type": "scatterpolar"
           }
          ],
          "scatterpolargl": [
           {
            "marker": {
             "colorbar": {
              "outlinewidth": 0,
              "ticks": ""
             }
            },
            "type": "scatterpolargl"
           }
          ],
          "scatterternary": [
           {
            "marker": {
             "colorbar": {
              "outlinewidth": 0,
              "ticks": ""
             }
            },
            "type": "scatterternary"
           }
          ],
          "surface": [
           {
            "colorbar": {
             "outlinewidth": 0,
             "ticks": ""
            },
            "colorscale": [
             [
              0,
              "#0d0887"
             ],
             [
              0.1111111111111111,
              "#46039f"
             ],
             [
              0.2222222222222222,
              "#7201a8"
             ],
             [
              0.3333333333333333,
              "#9c179e"
             ],
             [
              0.4444444444444444,
              "#bd3786"
             ],
             [
              0.5555555555555556,
              "#d8576b"
             ],
             [
              0.6666666666666666,
              "#ed7953"
             ],
             [
              0.7777777777777778,
              "#fb9f3a"
             ],
             [
              0.8888888888888888,
              "#fdca26"
             ],
             [
              1,
              "#f0f921"
             ]
            ],
            "type": "surface"
           }
          ],
          "table": [
           {
            "cells": {
             "fill": {
              "color": "#EBF0F8"
             },
             "line": {
              "color": "white"
             }
            },
            "header": {
             "fill": {
              "color": "#C8D4E3"
             },
             "line": {
              "color": "white"
             }
            },
            "type": "table"
           }
          ]
         },
         "layout": {
          "annotationdefaults": {
           "arrowcolor": "#2a3f5f",
           "arrowhead": 0,
           "arrowwidth": 1
          },
          "autotypenumbers": "strict",
          "coloraxis": {
           "colorbar": {
            "outlinewidth": 0,
            "ticks": ""
           }
          },
          "colorscale": {
           "diverging": [
            [
             0,
             "#8e0152"
            ],
            [
             0.1,
             "#c51b7d"
            ],
            [
             0.2,
             "#de77ae"
            ],
            [
             0.3,
             "#f1b6da"
            ],
            [
             0.4,
             "#fde0ef"
            ],
            [
             0.5,
             "#f7f7f7"
            ],
            [
             0.6,
             "#e6f5d0"
            ],
            [
             0.7,
             "#b8e186"
            ],
            [
             0.8,
             "#7fbc41"
            ],
            [
             0.9,
             "#4d9221"
            ],
            [
             1,
             "#276419"
            ]
           ],
           "sequential": [
            [
             0,
             "#0d0887"
            ],
            [
             0.1111111111111111,
             "#46039f"
            ],
            [
             0.2222222222222222,
             "#7201a8"
            ],
            [
             0.3333333333333333,
             "#9c179e"
            ],
            [
             0.4444444444444444,
             "#bd3786"
            ],
            [
             0.5555555555555556,
             "#d8576b"
            ],
            [
             0.6666666666666666,
             "#ed7953"
            ],
            [
             0.7777777777777778,
             "#fb9f3a"
            ],
            [
             0.8888888888888888,
             "#fdca26"
            ],
            [
             1,
             "#f0f921"
            ]
           ],
           "sequentialminus": [
            [
             0,
             "#0d0887"
            ],
            [
             0.1111111111111111,
             "#46039f"
            ],
            [
             0.2222222222222222,
             "#7201a8"
            ],
            [
             0.3333333333333333,
             "#9c179e"
            ],
            [
             0.4444444444444444,
             "#bd3786"
            ],
            [
             0.5555555555555556,
             "#d8576b"
            ],
            [
             0.6666666666666666,
             "#ed7953"
            ],
            [
             0.7777777777777778,
             "#fb9f3a"
            ],
            [
             0.8888888888888888,
             "#fdca26"
            ],
            [
             1,
             "#f0f921"
            ]
           ]
          },
          "colorway": [
           "#636efa",
           "#EF553B",
           "#00cc96",
           "#ab63fa",
           "#FFA15A",
           "#19d3f3",
           "#FF6692",
           "#B6E880",
           "#FF97FF",
           "#FECB52"
          ],
          "font": {
           "color": "#2a3f5f"
          },
          "geo": {
           "bgcolor": "white",
           "lakecolor": "white",
           "landcolor": "#E5ECF6",
           "showlakes": true,
           "showland": true,
           "subunitcolor": "white"
          },
          "hoverlabel": {
           "align": "left"
          },
          "hovermode": "closest",
          "mapbox": {
           "style": "light"
          },
          "paper_bgcolor": "white",
          "plot_bgcolor": "#E5ECF6",
          "polar": {
           "angularaxis": {
            "gridcolor": "white",
            "linecolor": "white",
            "ticks": ""
           },
           "bgcolor": "#E5ECF6",
           "radialaxis": {
            "gridcolor": "white",
            "linecolor": "white",
            "ticks": ""
           }
          },
          "scene": {
           "xaxis": {
            "backgroundcolor": "#E5ECF6",
            "gridcolor": "white",
            "gridwidth": 2,
            "linecolor": "white",
            "showbackground": true,
            "ticks": "",
            "zerolinecolor": "white"
           },
           "yaxis": {
            "backgroundcolor": "#E5ECF6",
            "gridcolor": "white",
            "gridwidth": 2,
            "linecolor": "white",
            "showbackground": true,
            "ticks": "",
            "zerolinecolor": "white"
           },
           "zaxis": {
            "backgroundcolor": "#E5ECF6",
            "gridcolor": "white",
            "gridwidth": 2,
            "linecolor": "white",
            "showbackground": true,
            "ticks": "",
            "zerolinecolor": "white"
           }
          },
          "shapedefaults": {
           "line": {
            "color": "#2a3f5f"
           }
          },
          "ternary": {
           "aaxis": {
            "gridcolor": "white",
            "linecolor": "white",
            "ticks": ""
           },
           "baxis": {
            "gridcolor": "white",
            "linecolor": "white",
            "ticks": ""
           },
           "bgcolor": "#E5ECF6",
           "caxis": {
            "gridcolor": "white",
            "linecolor": "white",
            "ticks": ""
           }
          },
          "title": {
           "x": 0.05
          },
          "xaxis": {
           "automargin": true,
           "gridcolor": "white",
           "linecolor": "white",
           "ticks": "",
           "title": {
            "standoff": 15
           },
           "zerolinecolor": "white",
           "zerolinewidth": 2
          },
          "yaxis": {
           "automargin": true,
           "gridcolor": "white",
           "linecolor": "white",
           "ticks": "",
           "title": {
            "standoff": 15
           },
           "zerolinecolor": "white",
           "zerolinewidth": 2
          }
         }
        },
        "title": {
         "text": "Peak Detection Debug Plot"
        },
        "xaxis": {
         "title": {
          "text": "Time (s)"
         }
        },
        "yaxis": {
         "title": {
          "text": "Normalized Energy"
         }
        }
       }
      }
     },
     "metadata": {},
     "output_type": "display_data"
    },
    {
     "data": {
      "text/plain": [
       "array([ 0.04643991,  0.20897959,  0.37151927,  0.46439909,  0.71981859,\n",
       "        0.90557823,  1.2306576 ,  1.32353741,  1.55573696,  1.60217687,\n",
       "        1.85759637,  1.95047619,  2.08979592,  2.36843537,  2.53097506,\n",
       "        2.64707483,  2.7631746 ,  2.7631746 ,  2.9721542 ,  3.13469388,\n",
       "        3.20435374,  3.39011338,  3.52943311,  3.59909297,  3.80807256,\n",
       "        3.97061224,  4.06349206,  4.2492517 ,  4.31891156,  4.43501134,\n",
       "        4.57433107,  4.7600907 ,  4.82975057,  5.03873016,  5.13160998,\n",
       "        5.27092971,  5.27092971,  5.54956916,  5.59600907,  5.68888889,\n",
       "        5.87464853,  5.96752834,  6.13006803,  6.19972789,  6.26938776,\n",
       "        6.38548753,  6.45514739,  6.61768707,  6.66412698,  6.78022676,\n",
       "        7.0124263 ,  7.05886621,  7.15174603,  7.24462585,  7.33750567,\n",
       "        7.56970522,  7.68580499,  7.9876644 ,  8.42884354,  8.59138322,\n",
       "        8.80036281,  8.91646259,  8.98612245,  9.10222222,  9.10222222,\n",
       "        9.218322  ,  9.52018141,  9.65950113,  9.77560091,  9.82204082,\n",
       "        9.91492063, 10.07746032, 10.33287982, 10.33287982, 10.47219955,\n",
       "       10.65795918, 10.72761905, 10.79727891, 10.86693878, 11.05269841,\n",
       "       11.19201814, 11.44743764, 11.60997732, 11.7260771 , 11.81895692,\n",
       "       11.91183673, 12.07437642, 12.16725624, 12.28335601, 12.32979592,\n",
       "       12.42267574, 12.56199546, 12.60843537, 12.7477551 , 12.81741497,\n",
       "       13.16571429, 13.2585941 , 13.39791383, 13.53723356, 13.67655329,\n",
       "       13.67655329, 13.86231293, 13.95519274, 14.00163265, 14.11773243,\n",
       "       14.2338322 , 14.44281179, 14.58213152, 14.67501134, 14.86077098,\n",
       "       15.09297052, 15.20907029, 15.4644898 , 15.65024943, 15.95210884,\n",
       "       16.06820862, 16.55582766, 16.69514739, 17.62394558, 17.9722449 ,\n",
       "       18.20444444, 18.66884354, 19.13324263, 19.57442177, 19.7137415 ,\n",
       "       19.85306122, 20.2245805 , 20.61931973, 20.82829932, 20.94439909])"
      ]
     },
     "execution_count": 20,
     "metadata": {},
     "output_type": "execute_result"
    }
   ],
   "source": [
    "start_time_str=\"2:54\"  \n",
    "end_time_str=\"3:16\"  \n",
    "start_time = mmss_to_seconds(start_time_str)\n",
    "end_time = mmss_to_seconds(end_time_str)\n",
    "\n",
    "detect_audio_peaks_with_fourier_transform(\"sources/audio/Hania_Rani_F_Major.mp3\",  start_time, end_time, plot=True)\n"
   ]
  },
  {
   "cell_type": "code",
   "execution_count": 11,
   "metadata": {},
   "outputs": [
    {
     "name": "stdout",
     "output_type": "stream",
     "text": [
      "Warning: More peaks (130) detected than images (40). Some images may repeat.\n",
      "Moviepy - Building video results/video/output_20250326_193703.mp4.\n",
      "MoviePy - Writing audio in output_20250326_193703TEMP_MPY_wvf_snd.mp3\n"
     ]
    },
    {
     "name": "stderr",
     "output_type": "stream",
     "text": [
      "                                                                   \r"
     ]
    },
    {
     "name": "stdout",
     "output_type": "stream",
     "text": [
      "MoviePy - Done.\n",
      "Moviepy - Writing video results/video/output_20250326_193703.mp4\n",
      "\n"
     ]
    },
    {
     "name": "stderr",
     "output_type": "stream",
     "text": [
      "                                                              \r"
     ]
    },
    {
     "name": "stdout",
     "output_type": "stream",
     "text": [
      "Moviepy - Done !\n",
      "Moviepy - video ready results/video/output_20250326_193703.mp4\n"
     ]
    }
   ],
   "source": [
    "timestamp = datetime.now().strftime(\"%Y%m%d_%H%M%S\")\n",
    "\n",
    "follow_the_peaks(\n",
    "        image_folder=\"results/maxxi_piano2\",  \n",
    "        audio_path=\"sources/audio/Hania_Rani_F_Major.mp3\", \n",
    "        output_video=f\"results/video/output_{timestamp}.mp4\",  \n",
    "        start_time_str=\"2:54\",  \n",
    "        end_time_str=\"3:16\",  \n",
    "        fps=30  \n",
    "    )"
   ]
  }
 ],
 "metadata": {
  "kernelspec": {
   "display_name": "base",
   "language": "python",
   "name": "python3"
  },
  "language_info": {
   "codemirror_mode": {
    "name": "ipython",
    "version": 3
   },
   "file_extension": ".py",
   "mimetype": "text/x-python",
   "name": "python",
   "nbconvert_exporter": "python",
   "pygments_lexer": "ipython3",
   "version": "3.8.8"
  }
 },
 "nbformat": 4,
 "nbformat_minor": 2
}
